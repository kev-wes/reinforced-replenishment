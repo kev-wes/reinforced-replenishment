{
 "cells": [
  {
   "cell_type": "code",
   "execution_count": null,
   "id": "0",
   "metadata": {},
   "outputs": [],
   "source": [
    "from dotenv import load_dotenv\n",
    "\n",
    "load_dotenv(\"../conf/local/.env\", override=True)\n",
    "\n",
    "%load_ext kedro.ipython\n",
    "\n",
    "\n",
    "%reload_kedro"
   ]
  },
  {
   "cell_type": "code",
   "execution_count": null,
   "id": "1",
   "metadata": {},
   "outputs": [],
   "source": [
    "import gym\n",
    "import reinforced_replenishment.envs  # Ensure the env is registered\n",
    "\n",
    "env = gym.make('CustomEnv-v0')\n",
    "obs = env.reset()\n",
    "print(obs)"
   ]
  }
 ],
 "metadata": {
  "kernelspec": {
   "display_name": "reinforced-replenishment",
   "language": "python",
   "name": "python3"
  },
  "language_info": {
   "codemirror_mode": {
    "name": "ipython",
    "version": 3
   },
   "file_extension": ".py",
   "mimetype": "text/x-python",
   "name": "python",
   "nbconvert_exporter": "python",
   "pygments_lexer": "ipython3",
   "version": "3.12.9"
  }
 },
 "nbformat": 4,
 "nbformat_minor": 5
}

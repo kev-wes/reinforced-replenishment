{
 "cells": [
  {
   "cell_type": "code",
   "execution_count": null,
   "id": "0",
   "metadata": {},
   "outputs": [],
   "source": [
    "from dotenv import load_dotenv\n",
    "\n",
    "load_dotenv(\"../conf/local/.env\", override=True)\n",
    "\n",
    "%load_ext kedro.ipython\n",
    "\n",
    "\n",
    "%reload_kedro"
   ]
  },
  {
   "cell_type": "code",
   "execution_count": null,
   "id": "1",
   "metadata": {},
   "outputs": [],
   "source": [
    "from stable_baselines3 import PPO\n",
    "from stable_baselines3.common.env_util import make_vec_env\n",
    "import gymnasium as gym\n",
    "import reinforced_replenishment.envs.replenishment_env"
   ]
  },
  {
   "cell_type": "code",
   "execution_count": null,
   "id": "2",
   "metadata": {},
   "outputs": [],
   "source": [
    "# Create the environment\n",
    "env = gym.make('ReplenishmentEnv-v0')\n",
    "\n",
    "# Set the seed during reset\n",
    "env.reset(seed=42)\n",
    "\n",
    "# Initialize the PPO agent\n",
    "model = PPO(\"MlpPolicy\", env, verbose=1)\n",
    "\n",
    "# Train the agent\n",
    "model.learn(total_timesteps=10000)\n",
    "\n",
    "# Save the model\n",
    "model.save(\"../data/06_models/ppo_replenishment\")"
   ]
  },
  {
   "cell_type": "code",
   "execution_count": null,
   "id": "3",
   "metadata": {},
   "outputs": [],
   "source": [
    "# Test the agent\n",
    "env = gym.make('ReplenishmentEnv-v0')\n",
    "env = env.unwrapped  # Access the underlying custom environment\n",
    "obs, _ = env.reset()  # Extract the observation from the tuple\n",
    "\n",
    "# Initialize storage for observations\n",
    "inventory_history = []\n",
    "forecast_next_period = []  # Store only the first entry of the forecast\n",
    "\n",
    "# Run the simulation\n",
    "for _ in range(100):\n",
    "    action, _ = model.predict(obs)  # Pass only the observation to predict()\n",
    "    obs, reward, terminated, truncated, info = env.step(action)  # Updated to handle terminated and truncated\n",
    "\n",
    "    # Save the current state\n",
    "    inventory_history.append(env.inventory)\n",
    "    forecast_next_period.append(env.forecast[0])  # Save only the first forecasted demand\n",
    "\n",
    "    if terminated or truncated:  # End the loop if the episode is over\n",
    "        break"
   ]
  },
  {
   "cell_type": "code",
   "execution_count": null,
   "id": "4",
   "metadata": {},
   "outputs": [],
   "source": [
    "import plotly.graph_objects as go\n",
    "# Create an interactive plot with plotly\n",
    "fig = go.Figure()\n",
    "\n",
    "# Add inventory line\n",
    "fig.add_trace(go.Scatter(\n",
    "    x=list(range(len(inventory_history))),\n",
    "    y=inventory_history,\n",
    "    mode='lines+markers',\n",
    "    name='Inventory',\n",
    "    line=dict(color='red', dash='dash'),\n",
    "    marker=dict(size=6)\n",
    "))\n",
    "\n",
    "# Add forecast line\n",
    "fig.add_trace(go.Scatter(\n",
    "    x=list(range(len(forecast_next_period))),\n",
    "    y=forecast_next_period,\n",
    "    mode='lines+markers',\n",
    "    name='Forecast (Next Period)',\n",
    "    line=dict(color='blue'),\n",
    "    marker=dict(size=6)\n",
    "))\n",
    "\n",
    "# Customize layout\n",
    "fig.update_layout(\n",
    "    title=\"Replenishment Environment State Over Time\",\n",
    "    xaxis_title=\"Time Steps\",\n",
    "    yaxis_title=\"Units\",\n",
    "    legend=dict(x=0, y=1),\n",
    "    template=\"plotly_white\"\n",
    ")\n",
    "\n",
    "# Show the interactive plot\n",
    "fig.show()"
   ]
  }
 ],
 "metadata": {
  "kernelspec": {
   "display_name": "reinforced-replenishment",
   "language": "python",
   "name": "python3"
  },
  "language_info": {
   "codemirror_mode": {
    "name": "ipython",
    "version": 3
   },
   "file_extension": ".py",
   "mimetype": "text/x-python",
   "name": "python",
   "nbconvert_exporter": "python",
   "pygments_lexer": "ipython3",
   "version": "3.12.9"
  }
 },
 "nbformat": 4,
 "nbformat_minor": 5
}

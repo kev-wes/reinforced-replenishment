{
 "cells": [
  {
   "cell_type": "code",
   "execution_count": null,
   "id": "0",
   "metadata": {},
   "outputs": [],
   "source": [
    "from dotenv import load_dotenv\n",
    "\n",
    "load_dotenv(\"../conf/local/.env\", override=True)\n",
    "\n",
    "%load_ext kedro.ipython\n",
    "\n",
    "\n",
    "%reload_kedro"
   ]
  },
  {
   "cell_type": "code",
   "execution_count": null,
   "id": "1",
   "metadata": {},
   "outputs": [],
   "source": [
    "from stable_baselines3 import PPO\n",
    "from stable_baselines3.common.env_util import make_vec_env\n",
    "import gymnasium as gym"
   ]
  },
  {
   "cell_type": "code",
   "execution_count": null,
   "id": "2",
   "metadata": {},
   "outputs": [],
   "source": [
    "# Create the environment\n",
    "env = gym.make('ReplenishmentEnv-v0')\n",
    "\n",
    "# Set the seed during reset\n",
    "env.reset(seed=42)\n",
    "\n",
    "# Initialize the PPO agent\n",
    "model = PPO(\"MlpPolicy\", env, verbose=1)\n",
    "\n",
    "# Train the agent\n",
    "model.learn(total_timesteps=10000)\n",
    "\n",
    "# Save the model\n",
    "model.save(\"ppo_replenishment\")"
   ]
  },
  {
   "cell_type": "code",
   "execution_count": null,
   "id": "3",
   "metadata": {},
   "outputs": [],
   "source": [
    "# Load the trained model\n",
    "model = PPO.load(\"ppo_replenishment\")\n",
    "\n",
    "# Test the agent\n",
    "env = gym.make('ReplenishmentEnv-v0')\n",
    "obs, _ = env.reset()  # Extract the observation from the tuple\n",
    "for _ in range(100):\n",
    "    action, _ = model.predict(obs)  # Pass only the observation to predict()\n",
    "    obs, reward, terminated, truncated, info = env.step(action)  # Updated to handle terminated and truncated\n",
    "    env.render()\n",
    "    if terminated or truncated:  # End the loop if the episode is over\n",
    "        break"
   ]
  }
 ],
 "metadata": {
  "kernelspec": {
   "display_name": "reinforced-replenishment",
   "language": "python",
   "name": "python3"
  },
  "language_info": {
   "codemirror_mode": {
    "name": "ipython",
    "version": 3
   },
   "file_extension": ".py",
   "mimetype": "text/x-python",
   "name": "python",
   "nbconvert_exporter": "python",
   "pygments_lexer": "ipython3",
   "version": "3.12.9"
  }
 },
 "nbformat": 4,
 "nbformat_minor": 5
}

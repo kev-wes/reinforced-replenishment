{
 "cells": [
  {
   "cell_type": "markdown",
   "id": "36c8f487-5e35-4826-8732-332d551ef44a",
   "metadata": {},
   "source": [
    "# Style guide Pacemaker"
   ]
  },
  {
   "cell_type": "markdown",
   "id": "f2d79c42-1469-48b3-8364-075cf98c9eb4",
   "metadata": {},
   "source": [
    "Let's create a table of contents to navigate through the page more easily:"
   ]
  },
  {
   "cell_type": "markdown",
   "id": "140f5c2c-7e83-4d5b-a094-7fd3fe597ce7",
   "metadata": {},
   "source": [
    "* [Logo](#Logo)\n",
    "* [HTML-Font](#HTML-Font)\n",
    "* [Colors](#Colors)\n",
    "* [Plots (Layouts)](#Plots)"
   ]
  },
  {
   "cell_type": "code",
   "execution_count": null,
   "id": "6a5d81a4",
   "metadata": {},
   "outputs": [],
   "source": [
    "import os\n",
    "import pandas as pd\n",
    "import numpy as np\n",
    "from reinforced_replenishment.nodes.visualisation.plots import ts_plot\n",
    "import plotly.io as pio\n",
    "import plotly.graph_objects as go"
   ]
  },
  {
   "cell_type": "code",
   "execution_count": null,
   "id": "f3048332",
   "metadata": {},
   "outputs": [],
   "source": [
    "import plotly.express as px\n",
    "import plotly.offline as pyo\n",
    "\n",
    "pyo.init_notebook_mode(connected=True)"
   ]
  },
  {
   "cell_type": "code",
   "execution_count": null,
   "id": "d3b11951",
   "metadata": {},
   "outputs": [],
   "source": [
    "# Do not show warnings\n",
    "# import warnings\n",
    "# warnings.filterwarnings('ignore')"
   ]
  },
  {
   "cell_type": "code",
   "execution_count": null,
   "id": "beff7dcc",
   "metadata": {},
   "outputs": [],
   "source": [
    "%%capture\n",
    "%reload_kedro"
   ]
  },
  {
   "cell_type": "markdown",
   "id": "a9b044b3-a6a4-4d1f-b434-85c3fb8655b1",
   "metadata": {},
   "source": [
    "## Logo\n",
    "Insert the pacemaker logo at the top & bottom of the page (stored in the folder ```img```)"
   ]
  },
  {
   "cell_type": "markdown",
   "id": "45e49ad6-5a80-46b6-b688-e621378e2736",
   "metadata": {},
   "source": [
    "<p style=\"text-align: right;\">\n",
    "    <img src=img/logo_blue-black.png alt=\"logo_blue-black\" width=\"300\" height=\"200\">\n",
    "</p>"
   ]
  },
  {
   "cell_type": "markdown",
   "id": "da1d6678-3dcf-4291-b5d1-2d5173ecc5d5",
   "metadata": {},
   "source": [
    "Make sure to add the code snippet ```--embed-images``` during the conversion to HTML"
   ]
  },
  {
   "cell_type": "markdown",
   "id": "5fdf051d-be02-49c6-9de1-30f45f751e46",
   "metadata": {},
   "source": [
    "```bash\n",
    "jupyter nbconvert notebooks/example.ipynb --no-input --to html --embed-images --output-dir=\"data/08_reporting\"\n",
    "```"
   ]
  },
  {
   "cell_type": "markdown",
   "id": "51525fe5-c3b1-4bbb-b108-88cc72a52fb2",
   "metadata": {},
   "source": [
    "## HTML-Font\n",
    "Use the font **Inter** for the Notebook (works only within vscode)."
   ]
  },
  {
   "cell_type": "code",
   "execution_count": null,
   "id": "bb488ed6-8535-4f90-8291-17b8667d7f10",
   "metadata": {},
   "outputs": [],
   "source": [
    "%%html \n",
    "<style>\n",
    "    body {\n",
    "        --vscode-font-family: \"Inter\";\n",
    "    };\n",
    "</style>"
   ]
  },
  {
   "cell_type": "markdown",
   "id": "37eb3301",
   "metadata": {},
   "source": [
    "## Colors\n",
    "Use the pacemaker color scheme to fit the company look (kindly provided by Lukas H.)\n",
    "- 0070C0 & 227941 are merely auxiliary colors "
   ]
  },
  {
   "cell_type": "markdown",
   "id": "d7e9b5d6-bb9f-4a16-8020-5e7e958f3b92",
   "metadata": {},
   "source": [
    "<p style=\"text-align: left;\">\n",
    "    <img src=img/pacemaker_colors.png alt=\"pacemaker_colors\" width=\"800\">\n",
    "</p>"
   ]
  },
  {
   "cell_type": "code",
   "execution_count": null,
   "id": "2e690691-6f14-4be4-8e48-268c0af8b704",
   "metadata": {},
   "outputs": [],
   "source": [
    "colors = {\n",
    "    \"verydarkblue\": \"#031C3B\", # Oxford Blue\n",
    "    \"darkblue\": \"#023169\", # Yale Blue\n",
    "    \"blue\": \"#00A0F5\", # Celestial Blue\n",
    "    \"midblue\": \"#0070C0\", # Hilfsfarbe für Verläufe\n",
    "    \"lightblue\": \"#C4E4F5\",\n",
    "    \"darkgreen\": \"#227941\", # Hilfsfarbe für Verläufe\n",
    "    \"green\": \"#3AB449\",\n",
    "    \"lightgreen\": \"#C3F0B3\",\n",
    "    \"white\": \"#EEEEEE\",\n",
    "    \"ivory\": \"#F5F9E9\",\n",
    "}"
   ]
  },
  {
   "cell_type": "markdown",
   "id": "f8b4180e-fc0a-4939-8930-f5a9e596ed40",
   "metadata": {},
   "source": [
    "## Plots\n",
    "* Make sure to add labels and titles to your plots\n",
    "* Define a plot layout and use it as default"
   ]
  },
  {
   "cell_type": "code",
   "execution_count": null,
   "id": "102f29ed-de2f-4a22-9171-70b7a12ce10b",
   "metadata": {},
   "outputs": [],
   "source": [
    "plot_layout_dict = {\n",
    "    \"layout\": {\n",
    "        \"font\": {\n",
    "            \"family\": \"Inter\",\n",
    "            \"size\": 14,\n",
    "            \"color\": \"black\"\n",
    "        },\n",
    "        \"title\": {\n",
    "            \"font\": {\n",
    "                \"size\": 18,\n",
    "                \"family\": \"Inter\",\n",
    "                \"weight\": \"bold\",\n",
    "                \"color\": \"black\"\n",
    "            },\n",
    "            'x': 0.5\n",
    "        },\n",
    "        \"plot_bgcolor\": \"#eaeaf2\",\n",
    "        \"paper_bgcolor\": \"white\",\n",
    "        \"xaxis\": {\n",
    "            \"showgrid\": True,\n",
    "            \"gridcolor\": \"white\"\n",
    "        },\n",
    "        \"yaxis\": {\n",
    "            \"showgrid\": True,\n",
    "            \"zerolinecolor\": \"white\",\n",
    "            \"gridcolor\": \"white\"\n",
    "        }\n",
    "    }\n",
    "}"
   ]
  },
  {
   "cell_type": "code",
   "execution_count": null,
   "id": "3aa518da",
   "metadata": {},
   "outputs": [],
   "source": [
    "# Create a Template object from the custom template dictionary\n",
    "custom_template = go.layout.Template(layout=plot_layout_dict[\"layout\"])\n",
    "\n",
    "# Start with a plotly theme as base\n",
    "base_template = pio.templates[\"plotly\"]\n",
    "\n",
    "# Update the base_template\n",
    "base_template.layout = base_template.layout.update(custom_template.layout)"
   ]
  },
  {
   "cell_type": "code",
   "execution_count": null,
   "id": "c76027b2-1715-4b16-8713-88e018b019f6",
   "metadata": {},
   "outputs": [],
   "source": [
    "date_range = pd.date_range(start=\"2023-01-01\", periods=10, freq=\"D\")\n",
    "values = np.random.randint(10, 100, size=len(date_range))\n",
    "values2 = np.random.randint(10, 80, size=len(date_range))\n",
    "values3 = np.random.randint(10, 40, size=len(date_range))\n",
    "\n",
    "df = pd.DataFrame({\n",
    "    \"date\": date_range,\n",
    "    \"blue\": values,\n",
    "    \"green\": values2,\n",
    "    \"darkblue\": values3\n",
    "})"
   ]
  },
  {
   "cell_type": "markdown",
   "id": "d21839c0-9515-4dd4-b1a2-1207cddcd54e",
   "metadata": {},
   "source": [
    "### ts_plot\n",
    "Use the colors in the timeseries plot"
   ]
  },
  {
   "cell_type": "code",
   "execution_count": null,
   "id": "e4686064-f452-456b-9ef8-d404da30a1ce",
   "metadata": {},
   "outputs": [],
   "source": [
    "fig = ts_plot(\n",
    "    df=df,\n",
    "    x=\"date\",\n",
    "    y=[\"blue\", \"green\", \"darkblue\"],\n",
    "    color=[colors['blue'], colors['green'], colors['darkblue']], # Optionally add colors\n",
    "    xaxis_title = 'Date', yaxis_title='Random Value',\n",
    "    title='Colored timeseries'\n",
    ")\n",
    "fig.update_layout(template=base_template, height=500, width=1000)\n",
    "fig"
   ]
  },
  {
   "cell_type": "markdown",
   "id": "8c5740f3-f81d-4b80-8ed5-68229cf80694",
   "metadata": {},
   "source": [
    "### bar-plot\n",
    "Use the colors in a bar plot"
   ]
  },
  {
   "cell_type": "code",
   "execution_count": null,
   "id": "c6f5b31a-fa92-430d-a3f3-41f3182f3173",
   "metadata": {},
   "outputs": [],
   "source": [
    "fig = px.bar(\n",
    "    df[[\"blue\", \"green\", \"darkblue\"]],\n",
    "    width=700, height=320,\n",
    "    color_discrete_sequence=[colors['blue'], colors['green'], colors['darkblue'], colors['darkgreen']],\n",
    "    barmode=\"group\"\n",
    ")\n",
    "fig.update_layout(template=base_template)\n",
    "fig.show()"
   ]
  },
  {
   "cell_type": "code",
   "execution_count": null,
   "id": "9230acf9-c83c-470a-9e88-ebb972bdee6c",
   "metadata": {},
   "outputs": [],
   "source": [
    "output_dir = \"../data/08_reporting\" if os.getcwd().endswith(\"notebooks\") else \"./data/08_reporting\"\n",
    "notebook_name = \"Style_guide.ipynb\"\n",
    "filepath = notebook_name if os.getcwd().endswith(\"notebooks\") else f\"./notebooks/{notebook_name}\""
   ]
  },
  {
   "cell_type": "code",
   "execution_count": null,
   "id": "01fefa88",
   "metadata": {},
   "outputs": [],
   "source": [
    "os.system(\n",
    "    f'jupyter nbconvert --output-dir={output_dir} --to html --embed-images {filepath} --no-input'\n",
    ")"
   ]
  },
  {
   "attachments": {},
   "cell_type": "markdown",
   "id": "1ffe0494-477b-4353-8c0f-b17af0bd9b0e",
   "metadata": {},
   "source": [
    "<p style=\"text-align: right;\">\n",
    "    <img src=img/logo_blue-black.png alt=\"logo_blue-black\" width=\"300\" height=\"200\">\n",
    "</p>"
   ]
  }
 ],
 "metadata": {
  "kernelspec": {
   "display_name": "Kedro (forecast_template_redis_logging)",
   "language": "python",
   "name": "kedro_forecast_template_redis_logging"
  },
  "language_info": {
   "codemirror_mode": {
    "name": "ipython",
    "version": 3
   },
   "file_extension": ".py",
   "mimetype": "text/x-python",
   "name": "python",
   "nbconvert_exporter": "python",
   "pygments_lexer": "ipython3",
   "version": "3.12.7"
  }
 },
 "nbformat": 4,
 "nbformat_minor": 5
}

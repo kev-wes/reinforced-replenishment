{
 "cells": [
  {
   "cell_type": "code",
   "execution_count": null,
   "id": "6a5d81a4",
   "metadata": {},
   "outputs": [],
   "source": [
    "import os\n",
    "import pandas as pd\n",
    "import numpy as np\n",
    "from reinforced_replenishment.nodes.visualisation.plots import ts_plot\n",
    "from reinforced_replenishment.nodes.evaluation import error_metrics\n",
    "from reinforced_replenishment.nodes.feature_engineering.abc_classification import abc_analyse\n",
    "from reinforced_replenishment.nodes.feature_engineering.xyz_classification import xyz_analyse\n",
    "from reinforced_replenishment.nodes.feature_engineering.demand_classification import classify_demand\n",
    "from reinforced_replenishment.nodes.data_transformation.forecast_table_loader import ForecastTableLoader\n",
    "from reinforced_replenishment.nodes.data_transformation.forecast_result_aggregator import ForecastResultAggregator\n",
    "from reinforced_replenishment.nodes.data_transformation.forecast_long_to_wide import forecast_long_to_wide\n",
    "from reinforced_replenishment.nodes.data_transformation.forecast_validator import forecast_validator\n",
    "from reinforced_replenishment.nodes.data_transformation.pprint_forecast_configs import pprint_forecast_configs\n",
    "from reinforced_replenishment.nodes.evaluation.compare_benchmarks import (\n",
    "    compare_benchmarks, diebold_mariano_test\n",
    ")\n",
    "from reinforced_replenishment.nodes.feature_selection.feature_score import feature_score"
   ]
  },
  {
   "cell_type": "code",
   "execution_count": null,
   "id": "f3048332",
   "metadata": {},
   "outputs": [],
   "source": [
    "import plotly.express as px\n",
    "import plotly.offline as pyo\n",
    "from plotly.subplots import make_subplots\n",
    "\n",
    "pyo.init_notebook_mode(connected=True)"
   ]
  },
  {
   "cell_type": "code",
   "execution_count": null,
   "id": "e2f94543-7f6f-4360-9ba3-080a087757e0",
   "metadata": {},
   "outputs": [],
   "source": [
    "from sklearn.feature_selection import (\n",
    "    f_classif,\n",
    "    f_regression,\n",
    "    mutual_info_classif,\n",
    "    mutual_info_regression,\n",
    ")"
   ]
  },
  {
   "cell_type": "code",
   "execution_count": null,
   "id": "d3b11951",
   "metadata": {},
   "outputs": [],
   "source": [
    "# Do not show warnings\n",
    "# import warnings\n",
    "# warnings.filterwarnings('ignore')"
   ]
  },
  {
   "cell_type": "code",
   "execution_count": null,
   "id": "beff7dcc",
   "metadata": {},
   "outputs": [],
   "source": [
    "%reload_kedro"
   ]
  },
  {
   "cell_type": "markdown",
   "id": "86175cac",
   "metadata": {},
   "source": [
    "## Load pacemaker forecast\n",
    "- add table demo-demand-forecast to POSTGRES_CONNECTION_STRING"
   ]
  },
  {
   "cell_type": "code",
   "execution_count": null,
   "id": "3d9a35a5",
   "metadata": {},
   "outputs": [],
   "source": [
    "# Enter namespace\n",
    "namespace = \"demo\"\n",
    "# Get all created_at values\n",
    "catalog.load(f\"{namespace}.forecast_configs@postgresql\").created_at.unique()"
   ]
  },
  {
   "cell_type": "code",
   "execution_count": null,
   "id": "70719a86",
   "metadata": {},
   "outputs": [],
   "source": [
    "# (Optionally) List of created_ats to be evaluated\n",
    "# The following forecasts can be found in demo-demand-forecast\n",
    "created_at_dict = {\n",
    "    \"2024-08-12 11:13:03.398283\": \"DefaultSagging\",\n",
    "    \"2024-08-12 11:17:46.208923\": \"DefaultLocalExplainingPredictionModel\",\n",
    "    \"2024-08-12 11:18:46.863222\": \"DefaultScalingPredictionModel\",\n",
    "}"
   ]
  },
  {
   "cell_type": "code",
   "execution_count": null,
   "id": "6c7a7dac",
   "metadata": {},
   "outputs": [],
   "source": [
    "# Class to load forecasts, optionally filter on creation timestamps\n",
    "fc_table = ForecastTableLoader(namespace, created_at=created_at_dict.keys())"
   ]
  },
  {
   "cell_type": "code",
   "execution_count": null,
   "id": "4900c213",
   "metadata": {},
   "outputs": [],
   "source": [
    "# Load foresight forecast\n",
    "foresight_forecast = fc_table.foresight_forecast()"
   ]
  },
  {
   "cell_type": "markdown",
   "id": "4faf464b",
   "metadata": {},
   "source": [
    "### Show forecast config "
   ]
  },
  {
   "cell_type": "code",
   "execution_count": null,
   "id": "c7707bc2",
   "metadata": {},
   "outputs": [],
   "source": [
    "# Optionally use .style to print out entire cells\n",
    "pprint_forecast_configs(\n",
    "    fc_table.forecast_configs(),\n",
    "    # show_only_diff=True,\n",
    "    # crop_configs=True, # make config more clear\n",
    ")  # .style"
   ]
  },
  {
   "cell_type": "markdown",
   "id": "b72393f3",
   "metadata": {},
   "source": [
    "### Feature importance"
   ]
  },
  {
   "cell_type": "code",
   "execution_count": null,
   "id": "ce0a0fae",
   "metadata": {},
   "outputs": [],
   "source": [
    "(\n",
    "    fc_table.forecast_feature_importance()\n",
    "    .replace({\"created_at\": created_at_dict})\n",
    "    .groupby([\"feature\", \"created_at\"])\n",
    "    .mean(numeric_only=True)\n",
    "    .reset_index()\n",
    "    .pivot(index=\"feature\", columns=\"created_at\", values=\"feature_importance\")\n",
    "    .assign(_mean=lambda x: x.mean(axis=1))\n",
    "    .sort_values(by=\"_mean\", ascending=False, axis=0)\n",
    "    .round(3)\n",
    "    .drop(columns=[\"_mean\"])\n",
    ").head(10)"
   ]
  },
  {
   "cell_type": "markdown",
   "id": "c270e959",
   "metadata": {},
   "source": [
    "## Load input table & customer forecast"
   ]
  },
  {
   "cell_type": "code",
   "execution_count": null,
   "id": "d8423bc0-2b83-4839-bd71-c6f435ba8cca",
   "metadata": {},
   "outputs": [],
   "source": [
    "# Load truth\n",
    "input_data = catalog.load(\"forecast.input_table@postgresql\")"
   ]
  },
  {
   "cell_type": "code",
   "execution_count": null,
   "id": "47b6e366-6a83-4480-acfe-a6bf4a99cf08",
   "metadata": {},
   "outputs": [],
   "source": [
    "customer_name = \"Customer\"  # Enter customer name here\n",
    "\n",
    "dict_cols = {\n",
    "    c.replace(\"group.\", \"\"): c\n",
    "    for c in foresight_forecast.columns\n",
    "    if c.startswith(\"group.\")\n",
    "}\n",
    "dict_cols.update({\"date\": \"date\", \"value\": \"truth\", \"internal_forecast\": customer_name})\n",
    "\n",
    "df_input = (\n",
    "    input_data[list(dict_cols.keys())]\n",
    "    .rename(columns=dict_cols)\n",
    "    .set_index(list(dict_cols.values()))\n",
    "    .reset_index([\"truth\", customer_name])\n",
    "    .fillna(0)\n",
    ")"
   ]
  },
  {
   "cell_type": "markdown",
   "id": "dc5cc5ce",
   "metadata": {},
   "source": [
    "### Feature score via SelectKBest\n",
    "Argument score_func can be f_classif, mutual_info_classif, f_regression, mutual_info_regression (default is f_classif) for classification/regression tasks, respectively.\n",
    "- f_* : F-statistic, assumes linear relationships and normality\n",
    "- mutual_info_*: Based on Mutual information theory. Does not only detect linear relationships. No assumptions about the underlying data distribution.\n",
    "- Execution time:\n",
    "    - f_classif < f_regression < mutual_info_regression < mutual_info_classif (takes very long)\n",
    "- Correlation with forecast_feature_importance for demo-data:\n",
    "    - f_classif (worst) < f_regression < mutual_info_classif < mutual_info_regression (best)"
   ]
  },
  {
   "cell_type": "code",
   "execution_count": null,
   "id": "713bdfd3",
   "metadata": {},
   "outputs": [],
   "source": [
    "# Feature Score via SelectKBest\n",
    "feature_score(\n",
    "    input_data.dropna(subset=\"value\"), target=\"value\", score_func=mutual_info_regression\n",
    ")"
   ]
  },
  {
   "cell_type": "markdown",
   "id": "37eb3301",
   "metadata": {},
   "source": [
    "## Merge pacemaker and customer forecast"
   ]
  },
  {
   "cell_type": "code",
   "execution_count": null,
   "id": "b43d23f0",
   "metadata": {},
   "outputs": [],
   "source": [
    "# Convert from long to wide format\n",
    "# Optionally enter forecast prefix OR forecast_translation\n",
    "forecast_table = forecast_long_to_wide(\n",
    "    foresight_forecast,\n",
    "    # forecast_prefix=\"Pacemaker \",\n",
    "    forecast_translation=created_at_dict,\n",
    ").merge(\n",
    "    df_input.drop(columns=[\"truth\"]), left_index=True, right_index=True, how=\"inner\"\n",
    ")"
   ]
  },
  {
   "cell_type": "code",
   "execution_count": null,
   "id": "8d0de005",
   "metadata": {},
   "outputs": [],
   "source": [
    "total_history = forecast_table.drop(columns=[\"truth\"]).merge(\n",
    "    df_input.drop(columns=[customer_name]),\n",
    "    left_index=True,\n",
    "    right_index=True,\n",
    "    how=\"outer\",\n",
    ")"
   ]
  },
  {
   "cell_type": "code",
   "execution_count": null,
   "id": "9a488328",
   "metadata": {},
   "outputs": [],
   "source": [
    "# Check if scope of the forecasts matches\n",
    "forecast_validator(forecast_table)\n",
    "# Optionally: drop NaNs to achieve equal scope\n",
    "forecast_table = forecast_table.dropna()"
   ]
  },
  {
   "cell_type": "markdown",
   "id": "83c8311e",
   "metadata": {},
   "source": [
    "## Plot timeseries"
   ]
  },
  {
   "cell_type": "code",
   "execution_count": null,
   "id": "d98c97f8",
   "metadata": {},
   "outputs": [],
   "source": [
    "ts_plot(\n",
    "    df=total_history.reset_index(),\n",
    "    x=\"date\",\n",
    "    y=forecast_table.columns,\n",
    "    freq=\"ME\",\n",
    "    dropdown=[\"group.product\", \"group.city\"],\n",
    "    # color=['#118df2',\"#EF553B\", \"#1e1e1e\",'#8f8d89'], # Optionally add colors\n",
    ")"
   ]
  },
  {
   "cell_type": "markdown",
   "id": "77d939f4",
   "metadata": {},
   "source": [
    "# Forecast evaluation"
   ]
  },
  {
   "cell_type": "markdown",
   "id": "2bd4af87",
   "metadata": {},
   "source": [
    "## T-Test comparison \n",
    "Equal to the compare_benchmark route of the forecastpipeline API"
   ]
  },
  {
   "cell_type": "code",
   "execution_count": null,
   "id": "3a5a7f10",
   "metadata": {},
   "outputs": [],
   "source": [
    "error = (\n",
    "    ForecastResultAggregator(forecast_table)\n",
    "    .groupby([\"group.sku_id\", \"group.city\", \"year\", \"month\"])\n",
    "    .sum()\n",
    "    .groupby([\"group.sku_id\", \"group.city\"])\n",
    "    .rmse()\n",
    "    .get_table()\n",
    ").dropna()\n",
    "\n",
    "benchmark = forecast_table.columns[0]\n",
    "for col in [c for c in error.columns if c != benchmark]:\n",
    "    print(compare_benchmarks(error, col, benchmark))"
   ]
  },
  {
   "cell_type": "markdown",
   "id": "98c1880c",
   "metadata": {},
   "source": [
    "## Diebold Mariano\n",
    "The Diebold-Mariano Test (DM Test) is a statistical test used to compare the forecast accuracy of two time series models. The test assesses whether the difference between the forecast errors of two models is significant, indicating that one model provides better forecasts than the other."
   ]
  },
  {
   "cell_type": "code",
   "execution_count": null,
   "id": "3e80cfa9",
   "metadata": {},
   "outputs": [],
   "source": [
    "columns = forecast_table.columns[0:2]\n",
    "(\n",
    "    forecast_table.groupby(\"max_date\")\n",
    "    .apply(lambda x: pd.Series(diebold_mariano_test(x, *columns, crit=\"MSE\")))\n",
    "    .rename(columns={0: \"DM stat\", 1: \"p-Value\"})\n",
    "    .assign(\n",
    "        significant=lambda x: x[\"p-Value\"] < 0.05,\n",
    "        better_FC=lambda x: np.where(x[\"DM stat\"] < 0, columns[0], columns[1]),\n",
    "    )\n",
    ")"
   ]
  },
  {
   "cell_type": "markdown",
   "id": "a8b0e190",
   "metadata": {},
   "source": [
    "## Weighted monthly accuracy (1-WAPE) per product sorted by sales volume per product"
   ]
  },
  {
   "cell_type": "code",
   "execution_count": null,
   "id": "ee96b1a6",
   "metadata": {},
   "outputs": [],
   "source": [
    "error = 1 - (\n",
    "    ForecastResultAggregator(forecast_table)\n",
    "    .groupby([\"year\", \"month\", \"group.product\", \"group.sku_id\"])\n",
    "    .sum()\n",
    "    .groupby([\"group.product\"])\n",
    "    .wape()\n",
    "    .get_table()\n",
    ")\n",
    "\n",
    "fig = px.bar(\n",
    "    error,\n",
    "    # color=error.index,\n",
    "    range_y=[0, 1],\n",
    "    width=100 + len(forecast_table.columns) * 160,\n",
    "    height=400,\n",
    "    text_auto=\".1%\",\n",
    "    # color_discrete_sequence=['#118df2',\"#EF553B\"],\n",
    "    barmode=\"group\",\n",
    ")\n",
    "fig.show()"
   ]
  },
  {
   "cell_type": "markdown",
   "id": "155641b6",
   "metadata": {},
   "source": [
    "## Boxplot: Scaled SPEC metric per sku_id and city"
   ]
  },
  {
   "cell_type": "code",
   "execution_count": null,
   "id": "2598c84b",
   "metadata": {},
   "outputs": [],
   "source": [
    "error = (\n",
    "    ForecastResultAggregator(forecast_table)\n",
    "    .groupby([\"group.product\", \"group.city\", \"year\", \"month\"])\n",
    "    .sum()\n",
    "    .groupby([\"group.product\", \"group.city\"])\n",
    "    .sc_spec()\n",
    "    .get_table()\n",
    "    .round(2)\n",
    "    .reset_index()\n",
    ").melt(\n",
    "    id_vars=[\"group.product\", \"group.city\"],\n",
    "    value_vars=[c for c in forecast_table.columns if c != \"truth\"],\n",
    "    var_name=\"Forecast Methode\",\n",
    "    value_name=\"forecast\",\n",
    ")\n",
    "\n",
    "fig = px.box(\n",
    "    error,\n",
    "    y=\"forecast\",\n",
    "    x=\"Forecast Methode\",\n",
    "    color=\"Forecast Methode\",\n",
    "    # range_y=[0,1],\n",
    "    width=100 + len(forecast_table.columns) * 200,\n",
    "    height=400,\n",
    ")\n",
    "fig.show()"
   ]
  },
  {
   "cell_type": "markdown",
   "id": "94bc6a95",
   "metadata": {},
   "source": [
    "## Histogram: Relative monthly deviation in % per sku_id and city"
   ]
  },
  {
   "cell_type": "code",
   "execution_count": null,
   "id": "44a78d67",
   "metadata": {},
   "outputs": [],
   "source": [
    "error = (\n",
    "    ForecastResultAggregator(forecast_table)\n",
    "    .groupby([\"group.sku_id\", \"group.city\", \"year\", \"month\"])\n",
    "    .sum()\n",
    "    .get_table()\n",
    "    .round(2)\n",
    "    .reset_index()\n",
    ").melt(\n",
    "    id_vars=[\"group.sku_id\", \"group.city\", \"year\", \"month\", \"truth\"],\n",
    "    value_vars=[c for c in forecast_table.columns if c != \"truth\"],\n",
    "    var_name=\"Forecast Methode\",\n",
    "    value_name=\"forecast\",\n",
    ")\n",
    "\n",
    "error[\"ERROR\"] = error[\"forecast\"] - error[\"truth\"]\n",
    "error[\"ABS_ERROR\"] = error[\"ERROR\"].abs()\n",
    "error[\"REL_ERROR\"] = (error[\"ERROR\"] / error[\"truth\"]) * 100"
   ]
  },
  {
   "cell_type": "code",
   "execution_count": null,
   "id": "10590655",
   "metadata": {},
   "outputs": [],
   "source": [
    "error_key = \"REL_ERROR\"\n",
    "# Filter extreme values, only common\n",
    "lower = error.replace([np.inf, -np.inf], np.nan).dropna()[error_key].quantile(0.001)\n",
    "upper = error.replace([np.inf, -np.inf], np.nan).dropna()[error_key].quantile(0.999)\n",
    "\n",
    "deviations_tmp = error[lambda x: x[error_key].gt(lower) & x[error_key].lt(upper)]\n",
    "# Make sure that the forecasts have the same groups\n",
    "deviations_tmp = deviations_tmp.groupby(\n",
    "    [\"year\", \"month\", \"group.sku_id\", \"group.city\"]\n",
    ").filter(lambda x: len(x) == deviations_tmp[\"Forecast Methode\"].nunique())"
   ]
  },
  {
   "cell_type": "code",
   "execution_count": null,
   "id": "381d2d15",
   "metadata": {},
   "outputs": [],
   "source": [
    "fig = px.histogram(\n",
    "    deviations_tmp,\n",
    "    x=error_key,\n",
    "    color=\"Forecast Methode\",\n",
    "    marginal=\"box\",  # or violin, rug\n",
    "    barmode=\"group\",\n",
    "    nbins=100,\n",
    ")\n",
    "\n",
    "fig.update(\n",
    "    layout_xaxis={\n",
    "        \"title\": \"Relativer Fehler (VORHERSAGE - IST)/IST [%]\",\n",
    "        \"autorange\": True,\n",
    "        #'range':[0,1]\n",
    "    },\n",
    "    layout_yaxis={\"title\": \"Anzahl\"},\n",
    ")\n",
    "fig.show()\n",
    "print(\n",
    "    deviations_tmp.groupby([\"Forecast Methode\"])\n",
    "    .agg(\n",
    "        Median=(error_key, \"median\"),\n",
    "        Mean=(error_key, \"mean\"),\n",
    "        Anzahl=(error_key, \"count\"),\n",
    "    )\n",
    "    .round(2)\n",
    ")"
   ]
  },
  {
   "cell_type": "markdown",
   "id": "9f5349c1",
   "metadata": {},
   "source": [
    "## Overall accuracy and over/underestimation per sku_id"
   ]
  },
  {
   "cell_type": "code",
   "execution_count": null,
   "id": "6a0265cf",
   "metadata": {},
   "outputs": [],
   "source": [
    "error = (\n",
    "    ForecastResultAggregator(forecast_table)\n",
    "    .groupby([\"group.sku_id\"])\n",
    "    .sum()\n",
    "    .get_table()\n",
    "    .round(2)\n",
    "    .reset_index()\n",
    ").melt(\n",
    "    id_vars=[\"group.sku_id\", \"truth\"],\n",
    "    value_vars=[c for c in forecast_table.columns if c != \"truth\"],\n",
    "    var_name=\"Forecast Methode\",\n",
    "    value_name=\"forecast\",\n",
    ")\n",
    "\n",
    "error[\"ERROR\"] = error[\"forecast\"] - error[\"truth\"]\n",
    "error[\"ABS_ERROR\"] = error[\"ERROR\"].abs()\n",
    "error[\"REL_ERROR\"] = (error[\"ERROR\"] / error[\"truth\"]) * 100\n",
    "error[\"ABS_REL_ERROR\"] = error[\"REL_ERROR\"].abs()\n",
    "error[\"Accuracy\"] = 100 - error[\"ABS_REL_ERROR\"]"
   ]
  },
  {
   "cell_type": "code",
   "execution_count": null,
   "id": "52a6a2b1",
   "metadata": {},
   "outputs": [],
   "source": [
    "fig = px.scatter(\n",
    "    error,\n",
    "    x=\"REL_ERROR\",\n",
    "    y=\"Accuracy\",\n",
    "    size=\"truth\",\n",
    "    color=\"Forecast Methode\",\n",
    "    hover_name=\"group.sku_id\",\n",
    "    size_max=60,\n",
    "    range_x=[-50, 50],\n",
    "    range_y=[50, 120],\n",
    "    title=\"Jährliche Prognosegenauigkeit und Über-/Unterschätzung\",\n",
    "    labels={\n",
    "        \"REL_ERROR\": \"Relativer Fehler (VORHERSAGE - IST)/IST [%]\",\n",
    "        \"Accuracy\": \"Genauigkeit [%]\",\n",
    "    },\n",
    ")\n",
    "fig[\"layout\"].pop(\"updatemenus\")\n",
    "fig.show()"
   ]
  },
  {
   "cell_type": "markdown",
   "id": "fa370947",
   "metadata": {},
   "source": [
    "## Demand classification\n",
    "- Smooth: Regular, consistent demand with low variability\n",
    "- Erratic: High variability in demand quantities but demand occurs frequently\n",
    "- Intermittent: Low frequency of demand, with some time periods showing no demand at all.\n",
    "- Lumpy: Both irregular demand occurrences and high variability in demand size.\n",
    "- Sparse: (own definition): < 5 data points"
   ]
  },
  {
   "cell_type": "code",
   "execution_count": null,
   "id": "dc55dc40",
   "metadata": {},
   "outputs": [],
   "source": [
    "demand = classify_demand(\n",
    "    total_history.reset_index(),\n",
    "    \"truth\",\n",
    "    \"date\",\n",
    "    [\"group.sku_id\", \"group.city\"],\n",
    "    \"M\",\n",
    "    sparse_limit=5,\n",
    ").set_index([\"group.sku_id\", \"group.city\"])[[\"classification\"]]\n",
    "# Add demand classification to full timeseries\n",
    "forecast_table_class = pd.merge(\n",
    "    forecast_table,\n",
    "    demand,\n",
    "    how=\"left\",\n",
    "    left_index=True,\n",
    "    right_index=True,\n",
    ").set_index([\"classification\"], append=True)\n",
    "display(demand.classification.value_counts().to_frame())"
   ]
  },
  {
   "cell_type": "code",
   "execution_count": null,
   "id": "de664ca1",
   "metadata": {},
   "outputs": [],
   "source": [
    "error = 1 - (\n",
    "    ForecastResultAggregator(forecast_table_class)\n",
    "    .groupby([\"group.sku_id\", \"group.city\", \"classification\", \"date\"])\n",
    "    .sum()\n",
    "    .groupby([\"group.sku_id\", \"group.city\", \"classification\"])\n",
    "    .wape()\n",
    "    .groupby([\"classification\"])\n",
    "    .median()\n",
    "    .get_table()\n",
    "    .round(3)\n",
    ")\n",
    "\n",
    "fig = px.bar(\n",
    "    error,\n",
    "    width=100 + len(forecast_table.columns) * 160,\n",
    "    height=400,\n",
    "    text_auto=\".1%\",\n",
    "    barmode=\"group\",\n",
    ")\n",
    "fig.show()"
   ]
  },
  {
   "cell_type": "markdown",
   "id": "a2915421",
   "metadata": {},
   "source": [
    "## ABC-XYZ Analyse\n",
    "#### ABC: Klassifizierung nach Absatzmenge\n",
    "- A: Kombinationen mit einem Anteil von 80% am Gesamtabsatz\n",
    "- B: Kombinationen mit einem Anteil von 15% am Gesamtabsatz\n",
    "- C: Kombinationen mit einem Anteil von 5% am Gesamtabsatz\n",
    "  \n",
    "#### XYZ: Klassifizierung nach Vorhersagbarkeit (gemäß ARIMA)\n",
    "- X: Relativ gute Vorhersagbarkeit (stabile Nachfrage, top 20%)\n",
    "- Y: Mittlere Vorhersagbarkeit (moderate Schwankungen, next 30%)\n",
    "- C: Schwer vorhersehbare Nachfrage (sporadischer Bedarf, übrige 50%)"
   ]
  },
  {
   "cell_type": "code",
   "execution_count": null,
   "id": "5c7a1271",
   "metadata": {},
   "outputs": [],
   "source": [
    "abc = abc_analyse(\n",
    "    total_history.reset_index()[lambda x: (x.date >= \"2021-07-01\")]\n",
    "    .groupby([\"group.sku_id\", \"group.city\"])\n",
    "    .agg(truth=(\"truth\", \"sum\")),\n",
    "    \"truth\",\n",
    ")\n",
    "xyz = xyz_analyse(\n",
    "    total_history.reset_index(),\n",
    "    \"truth\",\n",
    "    \"date\",\n",
    "    [\"group.sku_id\", \"group.city\"],\n",
    "    verbose=True,\n",
    ")"
   ]
  },
  {
   "cell_type": "code",
   "execution_count": null,
   "id": "86c1ef8a",
   "metadata": {},
   "outputs": [],
   "source": [
    "abc_xyz = pd.merge(\n",
    "    xyz.set_index([\"group.sku_id\", \"group.city\"]),\n",
    "    abc,\n",
    "    left_index=True,\n",
    "    right_index=True,\n",
    ")[[\"XYZ\", \"ABC\", \"truth\"]]"
   ]
  },
  {
   "cell_type": "code",
   "execution_count": null,
   "id": "32d0ad83",
   "metadata": {},
   "outputs": [],
   "source": [
    "# Add ABC, XYZ information to full timeseries\n",
    "forecast_table_abc_xyz = pd.merge(\n",
    "    forecast_table,\n",
    "    abc_xyz.drop(\"truth\", axis=1),\n",
    "    how=\"left\",\n",
    "    left_index=True,\n",
    "    right_index=True,\n",
    ").set_index([\"ABC\", \"XYZ\"], append=True)"
   ]
  },
  {
   "cell_type": "code",
   "execution_count": null,
   "id": "dc90cefd",
   "metadata": {},
   "outputs": [],
   "source": [
    "print(\"Number of total items: \", len(abc_xyz))\n",
    "fig = make_subplots(\n",
    "    rows=1,\n",
    "    cols=3,\n",
    "    subplot_titles=[\"Number of items\", \"Sum of truth value\", \"Percentage\"],\n",
    ")\n",
    "\n",
    "grouper = (\n",
    "    abc_xyz.groupby([\"ABC\", \"XYZ\"])\n",
    "    .agg(truth_count=(\"truth\", \"count\"), truth_sum=(\"truth\", \"sum\"))\n",
    "    .assign(\n",
    "        truth_all=lambda x: x.truth_sum.sum(),\n",
    "        truth_pct=lambda x: x.truth_sum / x.truth_all,\n",
    "    )\n",
    "    .pivot_table(index=\"ABC\", columns=\"XYZ\", values=[\"truth_count\", \"truth_sum\"])\n",
    ")\n",
    "# In numbers\n",
    "fig.add_trace(\n",
    "    px.imshow(grouper[\"truth_count\"], text_auto=True, origin=\"lower\").data[0],\n",
    "    row=1,\n",
    "    col=1,\n",
    ")\n",
    "\n",
    "# In tonnage\n",
    "fig.add_trace(\n",
    "    px.imshow(grouper[\"truth_sum\"], text_auto=\"0.3s\", origin=\"lower\").data[0],\n",
    "    row=1,\n",
    "    col=2,\n",
    ")\n",
    "\n",
    "# In percentage\n",
    "fig.add_trace(\n",
    "    px.imshow(grouper[\"truth_pct\"], text_auto=\".1%\", origin=\"lower\").data[0],\n",
    "    row=1,\n",
    "    col=3,\n",
    ")\n",
    "\n",
    "fig.update_layout(title_x=0.2, width=900, height=400, showlegend=False, font_size=12)\n",
    "fig.update_coloraxes(colorscale=\"rdbu_r\")\n",
    "fig.show()"
   ]
  },
  {
   "cell_type": "markdown",
   "id": "5996eb3a",
   "metadata": {},
   "source": [
    "## WAPE per cluster"
   ]
  },
  {
   "cell_type": "code",
   "execution_count": null,
   "id": "fb353312",
   "metadata": {},
   "outputs": [],
   "source": [
    "error = (\n",
    "    ForecastResultAggregator(forecast_table_abc_xyz)\n",
    "    .groupby([\"year\", \"month\", \"group.sku_id\", \"ABC\", \"XYZ\"])\n",
    "    .sum()\n",
    "    .groupby([\"group.sku_id\", \"ABC\", \"XYZ\"])\n",
    "    .wape()\n",
    "    .groupby([\"ABC\", \"XYZ\"])\n",
    "    .median()\n",
    "    .get_table()\n",
    "    .round(2)\n",
    "    .pivot_table(index=\"ABC\", columns=\"XYZ\")\n",
    ")\n",
    "pred_cols = error.columns.get_level_values(0).unique()\n",
    "fig = make_subplots(rows=1, cols=len(pred_cols), subplot_titles=pred_cols)\n",
    "for i, forecast in enumerate(pred_cols):\n",
    "    fig.add_trace(px.imshow(error[forecast], text_auto=True).data[0], row=1, col=i + 1)\n",
    "\n",
    "fig.update_layout(\n",
    "    title=\"Wape\",\n",
    "    title_x=0.5,\n",
    "    width=100 + len(pred_cols) * 220,\n",
    "    height=350,\n",
    "    showlegend=False,\n",
    "    font_size=12,\n",
    ")\n",
    "fig.update_coloraxes(colorscale=\"rdbu\")\n",
    "fig.show()"
   ]
  },
  {
   "cell_type": "markdown",
   "id": "84729bbb",
   "metadata": {},
   "source": [
    "## Correlation with external data"
   ]
  },
  {
   "cell_type": "code",
   "execution_count": null,
   "id": "936c3bf7",
   "metadata": {},
   "outputs": [],
   "source": [
    "target = \"value\"\n",
    "date = \"date\"\n",
    "groups = [\"product\", \"city\"]\n",
    "externals = [\"rain_amount\", \"temperature\"]\n",
    "\n",
    "df = input_data[[target, date, *groups, *externals]]"
   ]
  },
  {
   "cell_type": "code",
   "execution_count": null,
   "id": "b33b41e8",
   "metadata": {},
   "outputs": [],
   "source": [
    "# Add lags\n",
    "for external in externals:\n",
    "    for lag in range(1, 7):\n",
    "        df[f\"{external}_lag{lag}\"] = df.groupby(groups)[external].shift(lag)\n",
    "    for last in [3, 6]:\n",
    "        df[f\"{external}_last{last}\"] = df.groupby(groups)[external].transform(\n",
    "            lambda x: x.rolling(last, min_periods=1).mean()\n",
    "        )\n",
    "# Correlation between target and external columns\n",
    "px.imshow(\n",
    "    df.reindex(sorted(df.columns), axis=1)\n",
    "    .drop(columns=groups)\n",
    "    .corr()\n",
    "    .loc[[target]]\n",
    "    .drop(columns=[date, target])\n",
    "    .round(2),\n",
    "    height=250,\n",
    ")"
   ]
  },
  {
   "cell_type": "code",
   "execution_count": null,
   "id": "65b434d1",
   "metadata": {},
   "outputs": [],
   "source": [
    "def min_max_scaling(col):\n",
    "    return (col - col.min()) / (col.max() - col.min())\n",
    "\n",
    "\n",
    "df_scaled = df.copy()\n",
    "df_scaled[[target, *externals]] = df_scaled[[target, *externals]].apply(min_max_scaling)\n",
    "\n",
    "ts_plot(\n",
    "    df=df_scaled,\n",
    "    x=\"date\",\n",
    "    y=[target, *externals],\n",
    "    freq=\"M\",\n",
    "    dropdown=groups,\n",
    ")"
   ]
  },
  {
   "cell_type": "markdown",
   "id": "8e1287d3",
   "metadata": {},
   "source": [
    "## Export notebook"
   ]
  },
  {
   "cell_type": "code",
   "execution_count": null,
   "id": "01fefa88",
   "metadata": {},
   "outputs": [],
   "source": [
    "os.system(\n",
    "    f'jupyter nbconvert --output-dir=\"../data/08_reporting\" --to html Evaluation_demo_data_retail.ipynb --no-input'\n",
    ")"
   ]
  }
 ],
 "metadata": {
  "kernelspec": {
   "display_name": "Kedro (forecast_template)",
   "language": "python",
   "name": "kedro_forecast_template"
  },
  "language_info": {
   "codemirror_mode": {
    "name": "ipython",
    "version": 3
   },
   "file_extension": ".py",
   "mimetype": "text/x-python",
   "name": "python",
   "nbconvert_exporter": "python",
   "pygments_lexer": "ipython3",
   "version": "3.12.4"
  }
 },
 "nbformat": 4,
 "nbformat_minor": 5
}
